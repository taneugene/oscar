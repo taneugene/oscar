{
 "cells": [
  {
   "cell_type": "code",
   "execution_count": null,
   "metadata": {},
   "outputs": [],
   "source": [
    "# python ecosystem libraries\n",
    "import gdal\n",
    "import geopandas as gpd\n",
    "import glob\n",
    "import os\n",
    "import numpy as np\n",
    "import pandas as pd\n",
    "import sys\n",
    "from os.path import exists"
   ]
  },
  {
   "cell_type": "code",
   "execution_count": null,
   "metadata": {},
   "outputs": [],
   "source": [
    "# user defined libraries\n",
    "sys.path.append('lib/')\n",
    "import admin\n",
    "import exposures\n",
    "import geospatial\n",
    "import ssbn\n",
    "from helper_downloads import unzip\n",
    "from vulnerability_flood_depth import damage_function as flood_damage\n",
    "import vulnerability_flood_depth"
   ]
  },
  {
   "cell_type": "markdown",
   "metadata": {},
   "source": [
    "# Main Script"
   ]
  },
  {
   "cell_type": "markdown",
   "metadata": {},
   "source": [
    "## Set Parameters and download data if necessary\n",
    "Parameter Setting\n",
    "* Input country and data sources\n",
    "* Sets Hazard parameters\n",
    "* Set Exposure parameters\n",
    "* Set Vulnerability params\n",
    "* Set Damage aggregation parameters"
   ]
  },
  {
   "cell_type": "code",
   "execution_count": null,
   "metadata": {},
   "outputs": [],
   "source": [
    "# COUNTRY AND DATA SOURCES\n",
    "# List of countries (can be name, iso2, or iso3)\n",
    "c = 'Albania'\n",
    "c = admin.get_wbcountry(c)\n",
    "iso2 = admin.get_wbcountry(c, 'iso2')\n",
    "iso3 = admin.get_wbcountry(c, 'iso3')\n",
    "print('Countries being run on:', c,iso2, iso3)"
   ]
  },
  {
   "cell_type": "code",
   "execution_count": null,
   "metadata": {},
   "outputs": [],
   "source": [
    "# HAZARD PARAMETERS # This is the one dataset that WON'T automatically download\n",
    "# Type of flood - 'pluvial' or 'fluvial'\n",
    "haz = 'fluvial'\n",
    "# Hazard grid\n",
    "haz_folder = ssbn.folders(iso2, haz)\n",
    "haz_flist = sorted(glob.glob(haz_folder + '*'))\n",
    "haz_params = ssbn.get_param_info(haz_flist)"
   ]
  },
  {
   "cell_type": "code",
   "execution_count": null,
   "metadata": {},
   "outputs": [],
   "source": [
    "# EXPOSURE PARAMETERS\n",
    "exposure_source = 'worldpop' # 'gpw' or 'worldpop'\n",
    "if exposure_source == 'gpw':\n",
    "    expo, expo_gt, expo_shape = exposures.get_asset_array() # gridded population of the workd\n",
    "elif exposure_source == 'worldpop':\n",
    "    expo_path = exposures.worldpop(iso3) # This downloads the worldpop dataset\n",
    "else:\n",
    "    assert False\n",
    "\n",
    "# VULNERABILITY PARAMETERS\n",
    "# Which type of damage function?\n",
    "# which file?\n",
    "\n",
    "# DATA AGRREGATION PARAMETERS\n",
    "# HYDROBASINS dataset\n",
    "# Pfascetter level to assume spatial correlation level at\n",
    "pfas = 4\n",
    "# TODO: need to make lookup table mapping countries to continents used in hydrobasins\n",
    "hb_region = 'eu' \n",
    "hb_folder = './data/hydrobasins/{}/'.format(hb_region)\n",
    "hb_path = hb_folder+ 'hybas_{}_lev0{}_v1c.shp'.format(hb_region, pfas)\n",
    "if not exists(hb_path):\n",
    "    hb_zip = './data/hydrobasins/{}/hybas_{}_lev0{}_v1c.zip'.format(hb_region,\n",
    "    hb_region, pfas)\n",
    "    if not exists(hb_zip):\n",
    "        \n",
    "        pass # TODO: download the hydrobasins dataset unzip the top level\n",
    "    unzip(hb_zip, hb_folder)\n",
    "\n",
    "hb_df = geospatial.filter_polygons(expo_path, hb_path)\n",
    "\n",
    "# administrative boundary level(s) to run on: 0 corresponds to adm0 (national), 1 is subnational provinces, 2 is districts.\n",
    "levels = [0,1,2]\n",
    "# This takes a long time since there's nearly 4GB of data going into just getting the outlines of the subnational boundaries\n",
    "admin_df = admin.get_admin_boundaries(c, levels = levels)"
   ]
  },
  {
   "cell_type": "markdown",
   "metadata": {},
   "source": [
    "## Main Model"
   ]
  },
  {
   "cell_type": "code",
   "execution_count": null,
   "metadata": {},
   "outputs": [],
   "source": [
    "# START: you now have the following:\n",
    "# hazards & exposure grids,\n",
    "# vulnerability function,\n",
    "# basin & administrative boundaries\n",
    "haz_params,expo_path,hb_path,adm_path"
   ]
  },
  {
   "cell_type": "code",
   "execution_count": null,
   "metadata": {},
   "outputs": [],
   "source": [
    "# Get the basin layer \n",
    "\n",
    "# Filter for the relevant admin layers. \n",
    "    # Either from GPW or Worldpop, you need to aggregate populaition by the administrative boundary and the basin boundary\n",
    "    # Create a (basin, admin boundary) matrix that shows the fraction of (admin, basin) exposure over basin exposure\n",
    "\n",
    "# Now simulate 1000s of probabilities in an array that matches the extent of the basin\n",
    "# From the probabilities, (basin x sims)\n",
    "# map to a return period (1/probability) (basin x sims)\n",
    "# look up ssbn data for that return period and return flood depth # (lat x lon x sims)\n",
    "    # only complex because data is tiled\n",
    "    \n",
    "# preprocessing for next step:\n",
    "    # resample the exposure grids to the resolution of the hazard grids\n",
    "    # Write function that tells you whether cells in a tiff are inside a polygon or not.\n",
    "    # Loop_through_tifs:\n",
    "        # Loop through the rows of the basin GeoDataFrame,\n",
    "            # create a separate array for whether each point in a tiff is in the polygon or not\n",
    "\n",
    "# Map the flood depth to vulnerability # (sims x lat x lon) or (sims x basin)\n",
    "    # Assume exposures don't affect vulnerability\n",
    "        # Simple lookup map\n",
    "    # Otherwise tcd dhey affect vulnerability\n",
    "        # e.g. population -> land use -> different vulnerability functions\n",
    "    # Or multiple grids (sims x lat x lon x exposure dimensions) \n",
    "        # vulnerability(industrial, flood_depth)\n",
    "        # vulnerability(residential, flood_depth)\n",
    "        # sum vulnerabilities\n",
    "    # Aggregate back up to sims x basin # sims x lat x lon is too big on memory\n",
    "        # Multiply inPolygon * population * bool_depth = pop_affected\n",
    "        # Multiply inPolygon * population = population in basin\n",
    "        # multiply damage fraction by exposures\n",
    "\n",
    "# Upscaling/aggregating\n",
    "    # use the basin x admin matrix to multiply by the basin x admin boundary matrix to get a sims x admin boundary matrix         \n",
    "    # calculate the total exposure for each administrative region\n",
    "        # sums the maximum total damage (spatial sum of exposure) for each simulation\n",
    "    # Calculate return period based on sorted version for each administrative region\n",
    "        # Now sort the n x admin boundary matrix by impacts and divide by the total exposure per admin boundary to get the % damage by admin boundary\n",
    "\n",
    "\n",
    "        \n",
    "\n",
    "\n",
    "\n",
    "# Notes for iteration 2\n",
    "    # Make an interoperable Hazard class that works on SSBN, GAR, other gridded exposure data\n",
    "    # Loads hazard data\n",
    "    # Stores extents, xy grids\n",
    "    # Return period management\n",
    "    # Gives summary statistics\n",
    "    # Crops to country borders if necessary.\n",
    "    # Make an Exposure class that works on different asset grids, can estimate ones from gdp grids (e.g. Kummu)\n",
    "    # loads gridded exposure data\n",
    "    # Residential assets\n",
    "    # Industrial assets\n",
    "    # Commercial Assets\n",
    "    # Ag assets (cropland grids)\n",
    "    # infrastructure\n",
    "    # All assets\n",
    "    # Poor population\n",
    "    # Rich Population\n",
    "    # Calibrates against an external dataset or number\n",
    "    # Calculates exposure bias\n",
    "    # Vulnerability\n",
    "    # Function that goes from hazard and exposure to a mathematical\n",
    "    # function you can apply over both classes\n",
    "    "
   ]
  }
 ],
 "metadata": {
  "hide_input": false,
  "kernelspec": {
   "display_name": "oscar",
   "language": "python",
   "name": "oscar"
  },
  "language_info": {
   "codemirror_mode": {
    "name": "ipython",
    "version": 3
   },
   "file_extension": ".py",
   "mimetype": "text/x-python",
   "name": "python",
   "nbconvert_exporter": "python",
   "pygments_lexer": "ipython3",
   "version": "3.7.6"
  },
  "toc": {
   "base_numbering": 1,
   "nav_menu": {},
   "number_sections": true,
   "sideBar": true,
   "skip_h1_title": false,
   "title_cell": "Table of Contents",
   "title_sidebar": "Contents",
   "toc_cell": false,
   "toc_position": {},
   "toc_section_display": true,
   "toc_window_display": false
  },
  "varInspector": {
   "cols": {
    "lenName": 16,
    "lenType": 16,
    "lenVar": 40
   },
   "kernels_config": {
    "python": {
     "delete_cmd_postfix": "",
     "delete_cmd_prefix": "del ",
     "library": "var_list.py",
     "varRefreshCmd": "print(var_dic_list())"
    },
    "r": {
     "delete_cmd_postfix": ") ",
     "delete_cmd_prefix": "rm(",
     "library": "var_list.r",
     "varRefreshCmd": "cat(var_dic_list()) "
    }
   },
   "types_to_exclude": [
    "module",
    "function",
    "builtin_function_or_method",
    "instance",
    "_Feature"
   ],
   "window_display": false
  }
 },
 "nbformat": 4,
 "nbformat_minor": 2
}
